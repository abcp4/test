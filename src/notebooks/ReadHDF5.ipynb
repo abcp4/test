{
 "cells": [
  {
   "cell_type": "code",
   "execution_count": 1,
   "metadata": {},
   "outputs": [],
   "source": [
    "import tables"
   ]
  },
  {
   "cell_type": "code",
   "execution_count": 10,
   "metadata": {},
   "outputs": [
    {
     "data": {
      "text/plain": [
       "['Econometria Anne',\n",
       " 'Arvore_PMS.docx',\n",
       " '.DS_Store',\n",
       " 'bet.pem',\n",
       " '06-Multilayer-perceptron.pdf',\n",
       " 'Pedido Profissionais',\n",
       " 'Armário',\n",
       " 'onsetWforms_meier19jgr_pub1_0_woJP.h5',\n",
       " 'file_1.pdf',\n",
       " 'Miguel_s_dissertation.pdf',\n",
       " 'Avril Lavigne',\n",
       " 'readme.txt',\n",
       " 'CriarArquivoTexto.app',\n",
       " 'Apartamento Anne']"
      ]
     },
     "execution_count": 10,
     "metadata": {},
     "output_type": "execute_result"
    }
   ],
   "source": [
    "import os\n",
    "os.listdir('../../../../../../../Downloads/onsetWforms_meier19jgr_pub1_0_woJP.h5')"
   ]
  },
  {
   "cell_type": "code",
   "execution_count": 11,
   "metadata": {},
   "outputs": [],
   "source": [
    "fileh = tables.open_file('../../../../../../../Downloads/onsetWforms_meier19jgr_pub1_0_woJP.h5', mode='r')"
   ]
  },
  {
   "cell_type": "code",
   "execution_count": 21,
   "metadata": {},
   "outputs": [
    {
     "data": {
      "text/plain": [
       "/noise (Group) ''\n",
       "  children := ['featureNames' (UnImplemented), 'featureVals' (CArray), 'numMeta' (CArray), 'qval' (CArray), 'trainTestSplit' (CArray), 'trainTestSplit_rand' (CArray), 'wforms' (CArray)]"
      ]
     },
     "execution_count": 21,
     "metadata": {},
     "output_type": "execute_result"
    }
   ],
   "source": [
    "fileh.root.noise"
   ]
  },
  {
   "cell_type": "code",
   "execution_count": 40,
   "metadata": {},
   "outputs": [],
   "source": [
    "u = fileh.root.noise.wforms.shape"
   ]
  },
  {
   "cell_type": "code",
   "execution_count": null,
   "metadata": {},
   "outputs": [],
   "source": []
  }
 ],
 "metadata": {
  "kernelspec": {
   "display_name": "Python 3",
   "language": "python",
   "name": "python3"
  },
  "language_info": {
   "codemirror_mode": {
    "name": "ipython",
    "version": 3
   },
   "file_extension": ".py",
   "mimetype": "text/x-python",
   "name": "python",
   "nbconvert_exporter": "python",
   "pygments_lexer": "ipython3",
   "version": "3.6.8"
  }
 },
 "nbformat": 4,
 "nbformat_minor": 2
}
