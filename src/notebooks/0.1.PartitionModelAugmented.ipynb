{
 "cells": [
  {
   "cell_type": "code",
   "execution_count": 4,
   "metadata": {},
   "outputs": [],
   "source": [
    "from tools.utils import inverse_list, pcut\n",
    "import numpy as np\n",
    "import matplotlib.pyplot as plt\n",
    "import json\n",
    "import os\n",
    "import ntpath"
   ]
  },
  {
   "cell_type": "markdown",
   "metadata": {},
   "source": [
    "# Particionar Modelo"
   ]
  },
  {
   "cell_type": "markdown",
   "metadata": {},
   "source": [
    "Dado um dataset da tarefa de geofísica, particionamos em treino validação e teste e guardamos a partição em um arquivo json. O arquivo contém.\n",
    "\n",
    " * images_folder: caminho relativo ao dataset com as imagens\n",
    " * image_names: nomes das imagens na pasta\n",
    " * image_classes: classes das imagens, em inteiro\n",
    " * id_to_class: mapa das classes inteiras para a classe em caracteres\n",
    " * class_to_id: mapa das classes em caracteres para inteiros\n",
    " * train: imagens de treino\n",
    " * dev: imagens de validação\n",
    " * test: imagens de teste\n",
    " \n",
    "Salvamos o arquivo no path abaixo"
   ]
  },
  {
   "cell_type": "code",
   "execution_count": 5,
   "metadata": {},
   "outputs": [],
   "source": [
    "result_path = 'data/dataset_augmented.json'"
   ]
  },
  {
   "cell_type": "markdown",
   "metadata": {},
   "source": [
    "### Carregar Dados (Com augmentation)"
   ]
  },
  {
   "cell_type": "markdown",
   "metadata": {},
   "source": [
    "Carregamos o arquivo com as classificações das imagens e apontamos para a pasta contendo as imagens"
   ]
  },
  {
   "cell_type": "code",
   "execution_count": 6,
   "metadata": {},
   "outputs": [],
   "source": [
    "# Arquivo com as classificações por imagem\n",
    "classification = '../datasets/classification/major_3.txt'\n",
    "# Pasta contendo as imagens\n",
    "images_folder = '../dataset/train/'\n",
    "augmented_folder = '../dataset/augmented/'"
   ]
  },
  {
   "cell_type": "markdown",
   "metadata": {},
   "source": [
    "Mapeamos as imagens para a versão aumentada"
   ]
  },
  {
   "cell_type": "code",
   "execution_count": 4,
   "metadata": {},
   "outputs": [],
   "source": [
    "for result in os.walk(images_folder):\n",
    "    files = result[2]\n",
    "    \n",
    "for result in os.walk(augmented_folder):\n",
    "    aug_files = result[2]\n",
    "    \n",
    "aug_map = {}\n",
    "for filename in aug_files:\n",
    "    basename = ntpath.basename(filename)\n",
    "    basebase = '_'.join(basename.split('_')[:-2])\n",
    "    origname = basebase + '.jpg'\n",
    "    if not origname in aug_map:\n",
    "        aug_map[origname] = []\n",
    "    aug_map[origname].append(filename)"
   ]
  },
  {
   "cell_type": "markdown",
   "metadata": {},
   "source": [
    "Mapeamos as classes em inteiros"
   ]
  },
  {
   "cell_type": "code",
   "execution_count": 5,
   "metadata": {},
   "outputs": [],
   "source": [
    "id_to_class = ['B','M','R']\n",
    "class_to_id = utils.inverse_list(id_to_class)"
   ]
  },
  {
   "cell_type": "markdown",
   "metadata": {},
   "source": [
    "Para cada imagem recuperamos a classificação como inteiros"
   ]
  },
  {
   "cell_type": "code",
   "execution_count": 6,
   "metadata": {},
   "outputs": [],
   "source": [
    "with open(classification,'r') as f:\n",
    "    content = f.read()"
   ]
  },
  {
   "cell_type": "code",
   "execution_count": 7,
   "metadata": {},
   "outputs": [],
   "source": [
    "lines = content.split('\\n')\n",
    "lines = lines[:-1]"
   ]
  },
  {
   "cell_type": "code",
   "execution_count": 8,
   "metadata": {},
   "outputs": [
    {
     "data": {
      "text/plain": [
       "'sismoMod_Exp_00000003.jpg B'"
      ]
     },
     "execution_count": 8,
     "metadata": {},
     "output_type": "execute_result"
    }
   ],
   "source": [
    "lines[0]"
   ]
  },
  {
   "cell_type": "code",
   "execution_count": 9,
   "metadata": {},
   "outputs": [],
   "source": [
    "with open(classification,'r') as f:\n",
    "    content = f.read()\n",
    "    \n",
    "lines = content.split('\\n')\n",
    "lines = lines[:-1]\n",
    "image_names = []\n",
    "image_classes = []\n",
    "for line in lines:\n",
    "    name, c = line.split()\n",
    "    image_names.append(name)\n",
    "    image_classes.append(class_to_id[c])"
   ]
  },
  {
   "cell_type": "markdown",
   "metadata": {},
   "source": [
    "Segue a distribuição das classes"
   ]
  },
  {
   "cell_type": "code",
   "execution_count": 10,
   "metadata": {},
   "outputs": [
    {
     "data": {
      "image/png": "[encoded data removed]",
      "text/plain": [
       "<Figure size 432x288 with 1 Axes>"
      ]
     },
     "metadata": {
      "needs_background": "light"
     },
     "output_type": "display_data"
    }
   ],
   "source": [
    "r = plt.hist(image_classes,bins=len(id_to_class))"
   ]
  },
  {
   "cell_type": "code",
   "execution_count": 11,
   "metadata": {},
   "outputs": [
    {
     "name": "stdout",
     "output_type": "stream",
     "text": [
      "{'B': 850.0, 'M': 403.0, 'R': 136.0}\n"
     ]
    }
   ],
   "source": [
    "id_to_freq = r[0]\n",
    "class_freq = dict(zip(id_to_class, id_to_freq))\n",
    "print(class_freq)"
   ]
  },
  {
   "cell_type": "markdown",
   "metadata": {},
   "source": [
    "### Separação de dados"
   ]
  },
  {
   "cell_type": "markdown",
   "metadata": {},
   "source": [
    "Separamos os dados em treino, validação e teste. Mantendo as proporções das classes em cada conjunto"
   ]
  },
  {
   "cell_type": "markdown",
   "metadata": {},
   "source": [
    "Inicialmente separamos os elementos de cada classe"
   ]
  },
  {
   "cell_type": "code",
   "execution_count": 12,
   "metadata": {},
   "outputs": [],
   "source": [
    "imclasses = np.array(image_classes)\n",
    "\n",
    "good = np.where(imclasses == 0)[0]\n",
    "bad = np.where(imclasses == 1)[0]\n",
    "ugly = np.where(imclasses == 2)[0]"
   ]
  },
  {
   "cell_type": "markdown",
   "metadata": {},
   "source": [
    "Definimos as proporções de treino, validação e teste"
   ]
  },
  {
   "cell_type": "code",
   "execution_count": 13,
   "metadata": {},
   "outputs": [],
   "source": [
    "partitions = [0.7, 0.1, 0.2] # train, dev, test end proportions"
   ]
  },
  {
   "cell_type": "markdown",
   "metadata": {},
   "source": [
    "Criamos a lista de índices de treino validação e teste"
   ]
  },
  {
   "cell_type": "code",
   "execution_count": 14,
   "metadata": {},
   "outputs": [],
   "source": [
    "good_part = utils.pcut(good, partitions)\n",
    "bad_part = utils.pcut(bad, partitions)\n",
    "ugly_part = utils.pcut(ugly, partitions)\n",
    "c_parts = [good_part, bad_part, ugly_part]\n",
    "\n",
    "train = np.concatenate([x[0] for x in c_parts])\n",
    "dev = np.concatenate([x[1] for x in c_parts])\n",
    "test = np.concatenate([x[2] for x in c_parts])"
   ]
  },
  {
   "cell_type": "markdown",
   "metadata": {},
   "source": [
    "Guardamos os nomes das imagens das partições de treino, validação e teste num arquivo json"
   ]
  },
  {
   "cell_type": "code",
   "execution_count": 15,
   "metadata": {},
   "outputs": [],
   "source": [
    "train_names = np.array(image_names)[train]\n",
    "dev_names = np.array(image_names)[dev]\n",
    "test_names = np.array(image_names)[test]\n",
    "\n",
    "save_at = 'data/dataset_augmented.json'\n",
    "\n",
    "dataset_partition = {\n",
    "    'train':train.tolist(),\n",
    "    'dev':dev.tolist(),\n",
    "    'test':test.tolist(),\n",
    "    'image_names':image_names,\n",
    "    'image_classes':image_classes,\n",
    "    'images_folder':images_folder,\n",
    "    'augmented_images_folder':augmented_folder,\n",
    "    'aug_map':aug_map,\n",
    "    'id_to_class':id_to_class,\n",
    "    'class_to_id':class_to_id\n",
    "}\n",
    "\n",
    "with open(save_at, 'w') as f:\n",
    "    json.dump(dataset_partition, f)"
   ]
  },
  {
   "cell_type": "code",
   "execution_count": null,
   "metadata": {},
   "outputs": [],
   "source": []
  }
 ],
 "metadata": {
  "kernelspec": {
   "display_name": "Python 3",
   "language": "python",
   "name": "python3"
  },
  "language_info": {
   "codemirror_mode": {
    "name": "ipython",
    "version": 3
   },
   "file_extension": ".py",
   "mimetype": "text/x-python",
   "name": "python",
   "nbconvert_exporter": "python",
   "pygments_lexer": "ipython3",
   "version": "3.6.8"
  }
 },
 "nbformat": 4,
 "nbformat_minor": 2
}
